{
 "cells": [
  {
   "cell_type": "markdown",
   "id": "053c8d8c-1fe4-4268-ba5a-2641e30419b3",
   "metadata": {},
   "source": [
    "## PYTHON PROGRAMMING LANGUAGE "
   ]
  },
  {
   "cell_type": "markdown",
   "id": "438d4e1a-9e92-4011-90a3-b995b440a6e0",
   "metadata": {},
   "source": [
    "Python Became the Best Programming Language & fastest programming language.\n",
    "Python is used in Machine Learning, Data Science, Big Data, Web Development, Scripting, llm , generati ai everywhere \n",
    "we will learn pyton from start to end || basic to expert.\n",
    "if you are not done programm then that is totally fine. \n",
    "I will explain from starting from scratch.\n",
    "python software - pycharm || vs code || jupyter || spyder"
   ]
  },
  {
   "cell_type": "markdown",
   "id": "f49fca22-3388-4eee-9bc4-400f48049415",
   "metadata": {},
   "source": [
    "## PYTHON INTERPRETTER\n",
    "## IDE (INTEGRATED DEVELOPMENT ENVIRONMENT)"
   ]
  },
  {
   "cell_type": "markdown",
   "id": "d2d54482-197e-4180-be09-7de5ccb00007",
   "metadata": {},
   "source": [
    "IDE (INTEGRATED DEVELOPMENT ENVIRONMENT) =>\n",
    "- using IDE - one can write code, run the code, debug the code\n",
    "- IDE takes care of interpreting the Python code, running python scripts, building executables, and debugging the applications.\n",
    "- An IDE enables programmers to combine the different aspects of writing a computer program. \n",
    "- if you wnated to be python developer only then you need to install (IDE -- PYCHARM)"
   ]
  },
  {
   "cell_type": "markdown",
   "id": "2c1eb4e5-e9c1-46cc-9729-0362af4a3f13",
   "metadata": {},
   "source": [
    "PYTHON INTERPRETER -->\n",
    "What is Python interpreter?\n",
    "A python interpreter is a computer program that converts each high-level program statement into machine code. An interpreter translates the command that you write out into code that the computer can understand\n",
    "\n",
    "PYTHON INTERPRETER EXAMPLE --> \n",
    "You write your Python code in a text file with a name like hello.py . How does that code Run? There is program installed on your computer named \"python3\" or \"python\", and its job is looking at and running your Python code. This type of program is called an \"interpreter\"."
   ]
  },
  {
   "cell_type": "markdown",
   "id": "8f1ea037-1505-4b97-8715-be5b895dfc3b",
   "metadata": {},
   "source": [
    "## PYTHON INTERPRETER & COMPILER"
   ]
  },
  {
   "cell_type": "markdown",
   "id": "c43f5f7c-cca3-4607-a3c1-6f2ed1e10020",
   "metadata": {},
   "source": [
    "Both compilers and interpreters are used to convert a program written in a high-level language into machine code understood by computers.\n",
    "Interpreter -->\n",
    "- Translates program one statement at a time\n",
    "- Interpreter run every line item \n",
    "- Execut the single, partial line of code\n",
    "- Easy for programming \n",
    "\n",
    "Compiler -->\n",
    "- Scans the entire program and translates it as a whole into machine code.\n",
    "- No execution if an error occurs\n",
    "- you can not fix the bug (debug) line by line "
   ]
  },
  {
   "cell_type": "markdown",
   "id": "105a35c8-adda-4e5f-9fc5-95545025fc59",
   "metadata": {},
   "source": [
    "Is Python an interpreter or compiler?\n",
    "Python is an interpreted language, which means the source code of a Python program is converted into bytecode that is then executed by the Python virtual machine. Python is different from major compiled languages, such as C and C + +, as Python code is not required to be built and linked like code for these languages."
   ]
  },
  {
   "cell_type": "markdown",
   "id": "dd76c2c6-a7a0-40ab-9777-2de461e549df",
   "metadata": {},
   "source": [
    "How to create python environment variable \n",
    "1- cmd - python ( if it not works)\n",
    "2- find the location where the python is installed -- >\n",
    "         C:\\Users\\A3MAX SOFTWARE TECH\\AppData\\Local\\Programs\\Python\\Python39\\Scripts \n",
    "3- system -- env - environment variable screen will pop up \n",
    "4- select on system variable - click on path - create New \n",
    "5- C:\\Users\\kdata\\AppData\\Local\\Programs\\Python\\Python311\n",
    "6- env - sys variable - path - new - C:\\Users\\kdata\\AppData\\Local\\Programs\\Python\\Python311\\Scripts\n",
    "7- cmd - type python -version\n",
    "8- successfully python install in cmd     "
   ]
  },
  {
   "cell_type": "markdown",
   "id": "94817128-38eb-4eff-a013-f4c2cf8273eb",
   "metadata": {},
   "source": [
    "## ANACONDA "
   ]
  },
  {
   "cell_type": "markdown",
   "id": "35445307-6569-4293-8d9b-25311df5650f",
   "metadata": {},
   "source": [
    "Anaconda is a distribution of the Python and R programming languages for scientific computing (data science, machine learning applications, large-scale data processing, predictive analytics, etc.), that aims to simplify package management and deployment."
   ]
  },
  {
   "cell_type": "code",
   "execution_count": 18,
   "id": "962dc7a2-2c5c-4490-8622-8fb67e7c80a1",
   "metadata": {},
   "outputs": [
    {
     "data": {
      "text/plain": [
       "2"
      ]
     },
     "execution_count": 18,
     "metadata": {},
     "output_type": "execute_result"
    }
   ],
   "source": [
    "1 + 1 # ADDITION "
   ]
  },
  {
   "cell_type": "code",
   "execution_count": 20,
   "id": "a519a720-c92e-43a5-bcb2-5b7e69e07485",
   "metadata": {},
   "outputs": [
    {
     "data": {
      "text/plain": [
       "1"
      ]
     },
     "execution_count": 20,
     "metadata": {},
     "output_type": "execute_result"
    }
   ],
   "source": [
    "2-1"
   ]
  },
  {
   "cell_type": "code",
   "execution_count": 22,
   "id": "c68f781a-0df7-4e7f-8dce-824dcf6ab027",
   "metadata": {},
   "outputs": [
    {
     "data": {
      "text/plain": [
       "2.0"
      ]
     },
     "execution_count": 22,
     "metadata": {},
     "output_type": "execute_result"
    }
   ],
   "source": [
    "8 / 4 # Division"
   ]
  },
  {
   "cell_type": "code",
   "execution_count": 24,
   "id": "cc274271-c553-456e-8ccd-7cf2fab6acbb",
   "metadata": {},
   "outputs": [
    {
     "data": {
      "text/plain": [
       "1.6"
      ]
     },
     "execution_count": 24,
     "metadata": {},
     "output_type": "execute_result"
    }
   ],
   "source": [
    "8 / 5 #float division"
   ]
  },
  {
   "cell_type": "code",
   "execution_count": 26,
   "id": "c8e9e18c-bf9a-40d2-bbe3-59a6654a51fa",
   "metadata": {},
   "outputs": [
    {
     "data": {
      "text/plain": [
       "2.0"
      ]
     },
     "execution_count": 26,
     "metadata": {},
     "output_type": "execute_result"
    }
   ],
   "source": [
    "8/4 ## float division "
   ]
  },
  {
   "cell_type": "code",
   "execution_count": 28,
   "id": "ac813064-c4fe-4c4d-aea6-2d63117a7ab6",
   "metadata": {},
   "outputs": [
    {
     "data": {
      "text/plain": [
       "2"
      ]
     },
     "execution_count": 28,
     "metadata": {},
     "output_type": "execute_result"
    }
   ],
   "source": [
    "8 // 4 #integer division"
   ]
  },
  {
   "cell_type": "code",
   "execution_count": 30,
   "id": "df70af25-5434-4d44-b747-87db20ebbec9",
   "metadata": {},
   "outputs": [
    {
     "data": {
      "text/plain": [
       "10"
      ]
     },
     "execution_count": 30,
     "metadata": {},
     "output_type": "execute_result"
    }
   ],
   "source": [
    "8 + 9 - 7"
   ]
  },
  {
   "cell_type": "code",
   "execution_count": 36,
   "id": "c2bc7c89-0f06-4bf8-ac52-b56a1819d81b",
   "metadata": {},
   "outputs": [
    {
     "ename": "SyntaxError",
     "evalue": "invalid syntax (3896933857.py, line 1)",
     "output_type": "error",
     "traceback": [
      "\u001b[1;36m  Cell \u001b[1;32mIn[36], line 1\u001b[1;36m\u001b[0m\n\u001b[1;33m    8 + 8 - #syntax error\u001b[0m\n\u001b[1;37m            ^\u001b[0m\n\u001b[1;31mSyntaxError\u001b[0m\u001b[1;31m:\u001b[0m invalid syntax\n"
     ]
    }
   ],
   "source": [
    "8 + 8 - #syntax error:"
   ]
  },
  {
   "cell_type": "code",
   "execution_count": 34,
   "id": "ebfc771b-fec3-4b76-97b7-8739b42390af",
   "metadata": {},
   "outputs": [
    {
     "data": {
      "text/plain": [
       "30"
      ]
     },
     "execution_count": 34,
     "metadata": {},
     "output_type": "execute_result"
    }
   ],
   "source": [
    "5 + 5 * 5"
   ]
  },
  {
   "cell_type": "code",
   "execution_count": 38,
   "id": "9a8ade8d-024d-4e86-91a6-9f5a47d8530d",
   "metadata": {},
   "outputs": [
    {
     "data": {
      "text/plain": [
       "50"
      ]
     },
     "execution_count": 38,
     "metadata": {},
     "output_type": "execute_result"
    }
   ],
   "source": [
    "(5 + 5) * 5 # BODMAS (Bracket || Oders || Divide || Multiply || Add || Substact)"
   ]
  },
  {
   "cell_type": "code",
   "execution_count": 40,
   "id": "7ae76cf2-278a-44ef-a5cf-ccd18648aa9f",
   "metadata": {},
   "outputs": [
    {
     "data": {
      "text/plain": [
       "32"
      ]
     },
     "execution_count": 40,
     "metadata": {},
     "output_type": "execute_result"
    }
   ],
   "source": [
    "2 * 2 * 2 * 2 * 2 # exponentaion"
   ]
  },
  {
   "cell_type": "code",
   "execution_count": 42,
   "id": "29395791-1a57-4d8c-af78-634f36705133",
   "metadata": {},
   "outputs": [
    {
     "data": {
      "text/plain": [
       "10"
      ]
     },
     "execution_count": 42,
     "metadata": {},
     "output_type": "execute_result"
    }
   ],
   "source": [
    "2 * 5"
   ]
  },
  {
   "cell_type": "code",
   "execution_count": 44,
   "id": "62a907a8-f0ad-44bd-8b66-9761a37823cc",
   "metadata": {},
   "outputs": [
    {
     "data": {
      "text/plain": [
       "32"
      ]
     },
     "execution_count": 44,
     "metadata": {},
     "output_type": "execute_result"
    }
   ],
   "source": [
    "2 ** 5"
   ]
  },
  {
   "cell_type": "code",
   "execution_count": 46,
   "id": "e2ba5cf5-f5e1-4798-9b32-232e364e3109",
   "metadata": {},
   "outputs": [
    {
     "data": {
      "text/plain": [
       "5.0"
      ]
     },
     "execution_count": 46,
     "metadata": {},
     "output_type": "execute_result"
    }
   ],
   "source": [
    "15 / 3"
   ]
  },
  {
   "cell_type": "code",
   "execution_count": 48,
   "id": "739d2a60-e69f-4951-9831-7118403f2c6e",
   "metadata": {},
   "outputs": [
    {
     "data": {
      "text/plain": [
       "3"
      ]
     },
     "execution_count": 48,
     "metadata": {},
     "output_type": "execute_result"
    }
   ],
   "source": [
    "10 // 3 "
   ]
  },
  {
   "cell_type": "code",
   "execution_count": 51,
   "id": "b30620e4-b194-406c-a6d3-1d7022fd6d00",
   "metadata": {},
   "outputs": [
    {
     "data": {
      "text/plain": [
       "1"
      ]
     },
     "execution_count": 51,
     "metadata": {},
     "output_type": "execute_result"
    }
   ],
   "source": [
    "15 % 2 # Modulus "
   ]
  },
  {
   "cell_type": "code",
   "execution_count": 53,
   "id": "95bbfab6-7a00-4ce0-8bee-d5456a8193e3",
   "metadata": {},
   "outputs": [
    {
     "data": {
      "text/plain": [
       "0"
      ]
     },
     "execution_count": 53,
     "metadata": {},
     "output_type": "execute_result"
    }
   ],
   "source": [
    "10 % 2 "
   ]
  },
  {
   "cell_type": "code",
   "execution_count": 55,
   "id": "94cb3c88-a01a-4f66-b8fc-eb5bd71ddb65",
   "metadata": {},
   "outputs": [
    {
     "ename": "SyntaxError",
     "evalue": "invalid syntax (1768330815.py, line 1)",
     "output_type": "error",
     "traceback": [
      "\u001b[1;36m  Cell \u001b[1;32mIn[55], line 1\u001b[1;36m\u001b[0m\n\u001b[1;33m    15 %% 2\u001b[0m\n\u001b[1;37m        ^\u001b[0m\n\u001b[1;31mSyntaxError\u001b[0m\u001b[1;31m:\u001b[0m invalid syntax\n"
     ]
    }
   ],
   "source": [
    "15 %% 2"
   ]
  },
  {
   "cell_type": "code",
   "execution_count": 57,
   "id": "c47bea8b-2c0b-4d6e-a76e-65516974726b",
   "metadata": {},
   "outputs": [
    {
     "ename": "TypeError",
     "evalue": "unsupported operand type(s) for +: 'int' and 'str'",
     "output_type": "error",
     "traceback": [
      "\u001b[1;31m---------------------------------------------------------------------------\u001b[0m",
      "\u001b[1;31mTypeError\u001b[0m                                 Traceback (most recent call last)",
      "Cell \u001b[1;32mIn[57], line 1\u001b[0m\n\u001b[1;32m----> 1\u001b[0m \u001b[38;5;241m3\u001b[39m \u001b[38;5;241m+\u001b[39m \u001b[38;5;124m'\u001b[39m\u001b[38;5;124mnit\u001b[39m\u001b[38;5;124m'\u001b[39m\n",
      "\u001b[1;31mTypeError\u001b[0m: unsupported operand type(s) for +: 'int' and 'str'"
     ]
    }
   ],
   "source": [
    "3 + 'nit'"
   ]
  },
  {
   "cell_type": "code",
   "execution_count": 59,
   "id": "1afc28fd-5c17-45f2-9a24-55f50b7dbbb9",
   "metadata": {},
   "outputs": [
    {
     "name": "stdout",
     "output_type": "stream",
     "text": [
      "15\n",
      "7.8\n",
      "nit\n",
      "(8+9j)\n",
      "True\n"
     ]
    }
   ],
   "source": [
    "a,b,c,d,e = 15, 7.8, 'nit', 8+9j, True\n",
    "\n",
    "print(a)\n",
    "print(b)\n",
    "print(c)\n",
    "print(d)\n",
    "print(e)"
   ]
  },
  {
   "cell_type": "code",
   "execution_count": 61,
   "id": "530b39e8-c50c-422d-800c-061923914924",
   "metadata": {},
   "outputs": [
    {
     "name": "stdout",
     "output_type": "stream",
     "text": [
      "<class 'int'>\n",
      "<class 'float'>\n",
      "<class 'str'>\n",
      "<class 'complex'>\n",
      "<class 'bool'>\n"
     ]
    }
   ],
   "source": [
    "print(type(a))\n",
    "print(type(b))\n",
    "print(type(c))\n",
    "print(type(d))\n",
    "print(type(e))"
   ]
  },
  {
   "cell_type": "code",
   "execution_count": 63,
   "id": "5c6471c9-4ae0-40b2-b136-7b3430188a87",
   "metadata": {},
   "outputs": [
    {
     "data": {
      "text/plain": [
       "str"
      ]
     },
     "execution_count": 63,
     "metadata": {},
     "output_type": "execute_result"
    }
   ],
   "source": [
    "type(c)"
   ]
  },
  {
   "cell_type": "markdown",
   "id": "fc4f51ad-5a8f-4a5e-bba1-e8f858783ef6",
   "metadata": {},
   "source": [
    "- So far we code with numbers(integer) \n",
    "- Lets work with string "
   ]
  },
  {
   "cell_type": "code",
   "execution_count": 65,
   "id": "3f114f3d-bc68-4b3f-9525-a249726bc4de",
   "metadata": {},
   "outputs": [
    {
     "data": {
      "text/plain": [
       "'Naresh IT'"
      ]
     },
     "execution_count": 65,
     "metadata": {},
     "output_type": "execute_result"
    }
   ],
   "source": [
    "'Naresh IT'"
   ]
  },
  {
   "cell_type": "markdown",
   "id": "1a4ed286-9b0c-4130-82d1-1d9af539c65e",
   "metadata": {},
   "source": [
    "python inbuild function - print & you need to pass the parameter in print()\n",
    "\n",
    "A function is a block of code which only runs when it is called. You can pass data, known as parameters, into a function. A function can return data as a result."
   ]
  },
  {
   "cell_type": "code",
   "execution_count": 70,
   "id": "3929af82-3760-4dae-99a6-807abc2afec4",
   "metadata": {},
   "outputs": [
    {
     "name": "stdout",
     "output_type": "stream",
     "text": [
      "Max it\n"
     ]
    }
   ],
   "source": [
    "print('Max it')"
   ]
  },
  {
   "cell_type": "code",
   "execution_count": 74,
   "id": "800dcbb7-72cf-4d19-8faf-729750df88ec",
   "metadata": {},
   "outputs": [
    {
     "data": {
      "text/plain": [
       "'max it technology'"
      ]
     },
     "execution_count": 74,
     "metadata": {},
     "output_type": "execute_result"
    }
   ],
   "source": [
    "\"max it technology\""
   ]
  },
  {
   "cell_type": "code",
   "execution_count": 76,
   "id": "44e70777-e96d-42bf-97aa-1ed5de6c8ad7",
   "metadata": {},
   "outputs": [
    {
     "data": {
      "text/plain": [
       "'max it technology'"
      ]
     },
     "execution_count": 76,
     "metadata": {},
     "output_type": "execute_result"
    }
   ],
   "source": [
    "s1 = 'max it technology'\n",
    "s1"
   ]
  },
  {
   "cell_type": "code",
   "execution_count": 78,
   "id": "3f91652c-ed7d-4296-ac04-b82e10ae449a",
   "metadata": {},
   "outputs": [
    {
     "data": {
      "text/plain": [
       "5"
      ]
     },
     "execution_count": 78,
     "metadata": {},
     "output_type": "execute_result"
    }
   ],
   "source": [
    "a = 2\n",
    "b = 3\n",
    "a + b"
   ]
  },
  {
   "cell_type": "code",
   "execution_count": 80,
   "id": "2ca85fc0-7d0a-4180-98d3-ee224b694e3a",
   "metadata": {},
   "outputs": [
    {
     "data": {
      "text/plain": [
       "5"
      ]
     },
     "execution_count": 80,
     "metadata": {},
     "output_type": "execute_result"
    }
   ],
   "source": [
    "c = a + b\n",
    "c"
   ]
  },
  {
   "cell_type": "code",
   "execution_count": 82,
   "id": "61bfcb63-2652-4d90-b17c-34a7b56c4deb",
   "metadata": {},
   "outputs": [
    {
     "data": {
      "text/plain": [
       "str"
      ]
     },
     "execution_count": 82,
     "metadata": {},
     "output_type": "execute_result"
    }
   ],
   "source": [
    "a = 3\n",
    "b = 'hi'\n",
    "type(b)"
   ]
  },
  {
   "cell_type": "code",
   "execution_count": 84,
   "id": "8bd5b656-8bd7-4611-b8f4-7b19291fcec8",
   "metadata": {},
   "outputs": [
    {
     "ename": "SyntaxError",
     "evalue": "unterminated string literal (detected at line 1) (1294101388.py, line 1)",
     "output_type": "error",
     "traceback": [
      "\u001b[1;36m  Cell \u001b[1;32mIn[84], line 1\u001b[1;36m\u001b[0m\n\u001b[1;33m    print('max it's\"Technology\"') # \\ has some special meaning to ignore the error\u001b[0m\n\u001b[1;37m                               ^\u001b[0m\n\u001b[1;31mSyntaxError\u001b[0m\u001b[1;31m:\u001b[0m unterminated string literal (detected at line 1)\n"
     ]
    }
   ],
   "source": [
    "print('max it's\"Technology\"') # \\ has some special meaning to ignore the error"
   ]
  },
  {
   "cell_type": "code",
   "execution_count": 86,
   "id": "05d89d29-4fea-4feb-aa06-a8c713d123c4",
   "metadata": {},
   "outputs": [
    {
     "name": "stdout",
     "output_type": "stream",
     "text": [
      "max it's\"Technology\"\n"
     ]
    }
   ],
   "source": [
    "print('max it\\'s\"Technology\"') #\\ has some special meaning to ignore the error"
   ]
  },
  {
   "cell_type": "code",
   "execution_count": 88,
   "id": "cf03be1e-7ddd-4d56-b795-9cfa709f6572",
   "metadata": {},
   "outputs": [
    {
     "name": "stdout",
     "output_type": "stream",
     "text": [
      "max it Technology\n"
     ]
    }
   ],
   "source": [
    "print('max it',  'Technology')"
   ]
  },
  {
   "cell_type": "code",
   "execution_count": 90,
   "id": "3a0be88c-05d1-4a43-bfbf-47b10a37fccb",
   "metadata": {},
   "outputs": [
    {
     "name": "stdout",
     "output_type": "stream",
     "text": [
      "max it',  'Technology\n"
     ]
    }
   ],
   "source": [
    "print(\"max it',  'Technology\")"
   ]
  },
  {
   "cell_type": "code",
   "execution_count": 92,
   "id": "8a20f2d2-b227-40d9-bc8e-72f41146303c",
   "metadata": {},
   "outputs": [
    {
     "data": {
      "text/plain": [
       "'nit nit'"
      ]
     },
     "execution_count": 92,
     "metadata": {},
     "output_type": "execute_result"
    }
   ],
   "source": [
    "# print the nit 2 times \n",
    "'nit' + ' nit'"
   ]
  },
  {
   "cell_type": "code",
   "execution_count": 94,
   "id": "7562a168-5834-498d-a227-1a9d9110a202",
   "metadata": {},
   "outputs": [
    {
     "data": {
      "text/plain": [
       "'nit nit'"
      ]
     },
     "execution_count": 94,
     "metadata": {},
     "output_type": "execute_result"
    }
   ],
   "source": [
    "'nit'  ' nit'"
   ]
  },
  {
   "cell_type": "code",
   "execution_count": 96,
   "id": "daf20c51-bd85-46cd-82b1-a04806d56cb5",
   "metadata": {},
   "outputs": [
    {
     "data": {
      "text/plain": [
       "'nitnitnitnitnit'"
      ]
     },
     "execution_count": 96,
     "metadata": {},
     "output_type": "execute_result"
    }
   ],
   "source": [
    "#5 time print\n",
    "5 * 'nit'"
   ]
  },
  {
   "cell_type": "code",
   "execution_count": 98,
   "id": "c0edd082-d442-4162-8303-187f82f55217",
   "metadata": {},
   "outputs": [
    {
     "data": {
      "text/plain": [
       "' nit nit nit nit nit'"
      ]
     },
     "execution_count": 98,
     "metadata": {},
     "output_type": "execute_result"
    }
   ],
   "source": [
    "5*' nit' # soace between words"
   ]
  },
  {
   "cell_type": "code",
   "execution_count": 100,
   "id": "cdc158f8-7933-4180-988a-504466c5a1ec",
   "metadata": {},
   "outputs": [
    {
     "name": "stdout",
     "output_type": "stream",
     "text": [
      "c:\n",
      "it\n"
     ]
    }
   ],
   "source": [
    "print('c:\\nit') #\\n -- new line"
   ]
  },
  {
   "cell_type": "code",
   "execution_count": 102,
   "id": "260db2a3-979c-48a5-a228-72f6bbc738a0",
   "metadata": {},
   "outputs": [
    {
     "name": "stdout",
     "output_type": "stream",
     "text": [
      "c:\\nit\n"
     ]
    }
   ],
   "source": [
    "print(r'c:\\nit') #raw string"
   ]
  },
  {
   "cell_type": "markdown",
   "id": "577ff3e9-1b86-4481-bd80-6ac4606b2783",
   "metadata": {},
   "source": [
    "# variable || identifier || object\n",
    "![image.png](attachment:image.png)"
   ]
  },
  {
   "cell_type": "code",
   "execution_count": 105,
   "id": "e44d5fff-d77a-4db5-b067-c4217def43fe",
   "metadata": {},
   "outputs": [
    {
     "data": {
      "text/plain": [
       "2"
      ]
     },
     "execution_count": 105,
     "metadata": {},
     "output_type": "execute_result"
    }
   ],
   "source": [
    "2"
   ]
  },
  {
   "cell_type": "code",
   "execution_count": 107,
   "id": "b71086ac-4fbc-4c24-8f66-acbf5a379bdf",
   "metadata": {},
   "outputs": [
    {
     "data": {
      "text/plain": [
       "2"
      ]
     },
     "execution_count": 107,
     "metadata": {},
     "output_type": "execute_result"
    }
   ],
   "source": [
    "x = 2 #x is variable/identifier/objec, 2 is the value\n",
    "x"
   ]
  },
  {
   "cell_type": "code",
   "execution_count": 109,
   "id": "65d4b8ff-1f62-4ffc-b062-0578817ca354",
   "metadata": {},
   "outputs": [
    {
     "data": {
      "text/plain": [
       "5"
      ]
     },
     "execution_count": 109,
     "metadata": {},
     "output_type": "execute_result"
    }
   ],
   "source": [
    "x + 3"
   ]
  },
  {
   "cell_type": "code",
   "execution_count": 111,
   "id": "d5a570e0-9573-408f-a4b3-ef64718c03b8",
   "metadata": {},
   "outputs": [
    {
     "data": {
      "text/plain": [
       "3"
      ]
     },
     "execution_count": 111,
     "metadata": {},
     "output_type": "execute_result"
    }
   ],
   "source": [
    "y = 3\n",
    "y"
   ]
  },
  {
   "cell_type": "code",
   "execution_count": 113,
   "id": "cfda677b-208e-4d6a-a97b-57cd2015ead7",
   "metadata": {},
   "outputs": [
    {
     "data": {
      "text/plain": [
       "5"
      ]
     },
     "execution_count": 113,
     "metadata": {},
     "output_type": "execute_result"
    }
   ],
   "source": [
    "x + y"
   ]
  },
  {
   "cell_type": "code",
   "execution_count": 115,
   "id": "165abf98-437d-48d0-87f1-6d9747771ab7",
   "metadata": {},
   "outputs": [
    {
     "data": {
      "text/plain": [
       "9"
      ]
     },
     "execution_count": 115,
     "metadata": {},
     "output_type": "execute_result"
    }
   ],
   "source": [
    "x = 9\n",
    "x"
   ]
  },
  {
   "cell_type": "code",
   "execution_count": 117,
   "id": "0ffda849-492b-418b-b44d-30a36f7512e9",
   "metadata": {},
   "outputs": [
    {
     "data": {
      "text/plain": [
       "12"
      ]
     },
     "execution_count": 117,
     "metadata": {},
     "output_type": "execute_result"
    }
   ],
   "source": [
    "x + y"
   ]
  },
  {
   "cell_type": "code",
   "execution_count": 119,
   "id": "9adb477c-b8f7-41e6-80ef-b45ce993e9b5",
   "metadata": {},
   "outputs": [
    {
     "data": {
      "text/plain": [
       "19"
      ]
     },
     "execution_count": 119,
     "metadata": {},
     "output_type": "execute_result"
    }
   ],
   "source": [
    "x + 10"
   ]
  },
  {
   "cell_type": "code",
   "execution_count": 121,
   "id": "f477330f-bfdd-4621-9b68-c54c52fb1f79",
   "metadata": {},
   "outputs": [
    {
     "ename": "TypeError",
     "evalue": "can only concatenate str (not \"int\") to str",
     "output_type": "error",
     "traceback": [
      "\u001b[1;31m---------------------------------------------------------------------------\u001b[0m",
      "\u001b[1;31mTypeError\u001b[0m                                 Traceback (most recent call last)",
      "Cell \u001b[1;32mIn[121], line 1\u001b[0m\n\u001b[1;32m----> 1\u001b[0m _ \u001b[38;5;241m+\u001b[39m y\n",
      "\u001b[1;31mTypeError\u001b[0m: can only concatenate str (not \"int\") to str"
     ]
    }
   ],
   "source": [
    "_ + y # _ understand the previous result of the "
   ]
  },
  {
   "cell_type": "code",
   "execution_count": 123,
   "id": "6ca4d3b5-0527-47c5-969c-a806598261fa",
   "metadata": {},
   "outputs": [
    {
     "ename": "TypeError",
     "evalue": "can only concatenate str (not \"int\") to str",
     "output_type": "error",
     "traceback": [
      "\u001b[1;31m---------------------------------------------------------------------------\u001b[0m",
      "\u001b[1;31mTypeError\u001b[0m                                 Traceback (most recent call last)",
      "Cell \u001b[1;32mIn[123], line 1\u001b[0m\n\u001b[1;32m----> 1\u001b[0m _ \u001b[38;5;241m+\u001b[39m y\n",
      "\u001b[1;31mTypeError\u001b[0m: can only concatenate str (not \"int\") to str"
     ]
    }
   ],
   "source": [
    "_ + y"
   ]
  },
  {
   "cell_type": "code",
   "execution_count": 125,
   "id": "012044ff-3c4c-4964-b134-820bc85c7634",
   "metadata": {},
   "outputs": [
    {
     "ename": "TypeError",
     "evalue": "can only concatenate str (not \"int\") to str",
     "output_type": "error",
     "traceback": [
      "\u001b[1;31m---------------------------------------------------------------------------\u001b[0m",
      "\u001b[1;31mTypeError\u001b[0m                                 Traceback (most recent call last)",
      "Cell \u001b[1;32mIn[125], line 1\u001b[0m\n\u001b[1;32m----> 1\u001b[0m _ \u001b[38;5;241m+\u001b[39m y\n",
      "\u001b[1;31mTypeError\u001b[0m: can only concatenate str (not \"int\") to str"
     ]
    }
   ],
   "source": [
    "_ + y"
   ]
  },
  {
   "cell_type": "code",
   "execution_count": 127,
   "id": "92bc6cbc-8ffc-42fd-b3d2-d4b9164a5199",
   "metadata": {},
   "outputs": [],
   "source": [
    "# string variable \n",
    "name = 'mit'"
   ]
  },
  {
   "cell_type": "code",
   "execution_count": 129,
   "id": "0ede13d0-5416-4105-91f5-6121ff19acdb",
   "metadata": {},
   "outputs": [
    {
     "data": {
      "text/plain": [
       "'mit'"
      ]
     },
     "execution_count": 129,
     "metadata": {},
     "output_type": "execute_result"
    }
   ],
   "source": [
    "name"
   ]
  },
  {
   "cell_type": "code",
   "execution_count": 133,
   "id": "8c6fb81f-10a7-4063-8206-4267685f051e",
   "metadata": {},
   "outputs": [
    {
     "data": {
      "text/plain": [
       "'mittechnology'"
      ]
     },
     "execution_count": 133,
     "metadata": {},
     "output_type": "execute_result"
    }
   ],
   "source": [
    "name + 'technology'"
   ]
  },
  {
   "cell_type": "code",
   "execution_count": 137,
   "id": "fe514121-5a20-4b0e-be4c-369d70ff30f3",
   "metadata": {},
   "outputs": [
    {
     "data": {
      "text/plain": [
       "'mit technology'"
      ]
     },
     "execution_count": 137,
     "metadata": {},
     "output_type": "execute_result"
    }
   ],
   "source": [
    "name + ' technology'"
   ]
  },
  {
   "cell_type": "code",
   "execution_count": 141,
   "id": "030d0a43-bef5-4ab9-8a69-d5b9119d0833",
   "metadata": {},
   "outputs": [
    {
     "ename": "SyntaxError",
     "evalue": "invalid syntax (3186014715.py, line 1)",
     "output_type": "error",
     "traceback": [
      "\u001b[1;36m  Cell \u001b[1;32mIn[141], line 1\u001b[1;36m\u001b[0m\n\u001b[1;33m    name 'technology'\u001b[0m\n\u001b[1;37m         ^\u001b[0m\n\u001b[1;31mSyntaxError\u001b[0m\u001b[1;31m:\u001b[0m invalid syntax\n"
     ]
    }
   ],
   "source": [
    "name 'technology'"
   ]
  },
  {
   "cell_type": "code",
   "execution_count": 143,
   "id": "027bba5a-fb72-423f-8abc-ddc833c9446a",
   "metadata": {},
   "outputs": [
    {
     "data": {
      "text/plain": [
       "'mit'"
      ]
     },
     "execution_count": 143,
     "metadata": {},
     "output_type": "execute_result"
    }
   ],
   "source": [
    "name"
   ]
  },
  {
   "cell_type": "code",
   "execution_count": 145,
   "id": "574aefbd-6fc5-425f-9b98-ec9bedd2d17b",
   "metadata": {},
   "outputs": [
    {
     "data": {
      "text/plain": [
       "3"
      ]
     },
     "execution_count": 145,
     "metadata": {},
     "output_type": "execute_result"
    }
   ],
   "source": [
    "len(name)"
   ]
  },
  {
   "cell_type": "code",
   "execution_count": 147,
   "id": "40f71ddd-98fa-4c18-a4bc-0bfec817146f",
   "metadata": {},
   "outputs": [
    {
     "data": {
      "text/plain": [
       "'m'"
      ]
     },
     "execution_count": 147,
     "metadata": {},
     "output_type": "execute_result"
    }
   ],
   "source": [
    "name[0] #python index begins with 0"
   ]
  },
  {
   "cell_type": "code",
   "execution_count": 149,
   "id": "ee212b2b-b21e-45e1-8fa5-95627986b5ff",
   "metadata": {},
   "outputs": [
    {
     "ename": "IndexError",
     "evalue": "string index out of range",
     "output_type": "error",
     "traceback": [
      "\u001b[1;31m---------------------------------------------------------------------------\u001b[0m",
      "\u001b[1;31mIndexError\u001b[0m                                Traceback (most recent call last)",
      "Cell \u001b[1;32mIn[149], line 1\u001b[0m\n\u001b[1;32m----> 1\u001b[0m name[\u001b[38;5;241m5\u001b[39m]\n",
      "\u001b[1;31mIndexError\u001b[0m: string index out of range"
     ]
    }
   ],
   "source": [
    "name[5]"
   ]
  },
  {
   "cell_type": "code",
   "execution_count": 151,
   "id": "ef29a59d-20be-4f58-bbb5-5bb4369ba384",
   "metadata": {},
   "outputs": [
    {
     "ename": "IndexError",
     "evalue": "string index out of range",
     "output_type": "error",
     "traceback": [
      "\u001b[1;31m---------------------------------------------------------------------------\u001b[0m",
      "\u001b[1;31mIndexError\u001b[0m                                Traceback (most recent call last)",
      "Cell \u001b[1;32mIn[151], line 1\u001b[0m\n\u001b[1;32m----> 1\u001b[0m name[\u001b[38;5;241m7\u001b[39m]\n",
      "\u001b[1;31mIndexError\u001b[0m: string index out of range"
     ]
    }
   ],
   "source": [
    "name[7]"
   ]
  },
  {
   "cell_type": "code",
   "execution_count": 153,
   "id": "7b9eaed5-5eb3-4a2a-ba41-56bfa09432d6",
   "metadata": {},
   "outputs": [
    {
     "data": {
      "text/plain": [
       "'t'"
      ]
     },
     "execution_count": 153,
     "metadata": {},
     "output_type": "execute_result"
    }
   ],
   "source": [
    "name[-1]"
   ]
  },
  {
   "cell_type": "code",
   "execution_count": 155,
   "id": "e6d0cfe3-d485-4721-b3b1-00a0ce73b3f6",
   "metadata": {},
   "outputs": [
    {
     "data": {
      "text/plain": [
       "'i'"
      ]
     },
     "execution_count": 155,
     "metadata": {},
     "output_type": "execute_result"
    }
   ],
   "source": [
    "name[-2]"
   ]
  },
  {
   "cell_type": "code",
   "execution_count": 157,
   "id": "42fcd95a-d5e1-4421-bdba-ead9abf8b3a2",
   "metadata": {},
   "outputs": [
    {
     "ename": "IndexError",
     "evalue": "string index out of range",
     "output_type": "error",
     "traceback": [
      "\u001b[1;31m---------------------------------------------------------------------------\u001b[0m",
      "\u001b[1;31mIndexError\u001b[0m                                Traceback (most recent call last)",
      "Cell \u001b[1;32mIn[157], line 1\u001b[0m\n\u001b[1;32m----> 1\u001b[0m name[\u001b[38;5;241m-\u001b[39m\u001b[38;5;241m6\u001b[39m]\n",
      "\u001b[1;31mIndexError\u001b[0m: string index out of range"
     ]
    }
   ],
   "source": [
    "name[-6]"
   ]
  },
  {
   "cell_type": "markdown",
   "id": "770a3e9f-6679-48d3-8999-84746f14b750",
   "metadata": {},
   "source": [
    "## slicing"
   ]
  },
  {
   "cell_type": "code",
   "execution_count": 160,
   "id": "533a6ef3-6bab-431e-bd06-621487d6d849",
   "metadata": {},
   "outputs": [
    {
     "data": {
      "text/plain": [
       "'mit'"
      ]
     },
     "execution_count": 160,
     "metadata": {},
     "output_type": "execute_result"
    }
   ],
   "source": [
    "name"
   ]
  },
  {
   "cell_type": "code",
   "execution_count": 162,
   "id": "cce72b8d-6827-4215-b678-ac284abdb0da",
   "metadata": {},
   "outputs": [
    {
     "data": {
      "text/plain": [
       "'m'"
      ]
     },
     "execution_count": 162,
     "metadata": {},
     "output_type": "execute_result"
    }
   ],
   "source": [
    "name[0:1] #to print 2 character  "
   ]
  },
  {
   "cell_type": "code",
   "execution_count": 164,
   "id": "df1627ee-6460-4462-9ef4-bc6fb4ae80bd",
   "metadata": {},
   "outputs": [
    {
     "data": {
      "text/plain": [
       "'mi'"
      ]
     },
     "execution_count": 164,
     "metadata": {},
     "output_type": "execute_result"
    }
   ],
   "source": [
    "name[0:2]"
   ]
  },
  {
   "cell_type": "code",
   "execution_count": 166,
   "id": "d2b9de24-7dc4-490d-afa9-7d84a1640fb3",
   "metadata": {},
   "outputs": [
    {
     "data": {
      "text/plain": [
       "'it'"
      ]
     },
     "execution_count": 166,
     "metadata": {},
     "output_type": "execute_result"
    }
   ],
   "source": [
    "name[1:4]"
   ]
  },
  {
   "cell_type": "code",
   "execution_count": 168,
   "id": "808c93ce-6054-4d66-8281-88c78cc3dbc3",
   "metadata": {},
   "outputs": [
    {
     "data": {
      "text/plain": [
       "'it'"
      ]
     },
     "execution_count": 168,
     "metadata": {},
     "output_type": "execute_result"
    }
   ],
   "source": [
    "name[1:]"
   ]
  },
  {
   "cell_type": "code",
   "execution_count": 170,
   "id": "50c87add-2984-4e6e-8dd1-91a42f278d1f",
   "metadata": {},
   "outputs": [
    {
     "data": {
      "text/plain": [
       "'mit'"
      ]
     },
     "execution_count": 170,
     "metadata": {},
     "output_type": "execute_result"
    }
   ],
   "source": [
    "name[:4]"
   ]
  },
  {
   "cell_type": "code",
   "execution_count": 172,
   "id": "a642860c-9723-48e4-91fc-56e4a132c088",
   "metadata": {},
   "outputs": [
    {
     "data": {
      "text/plain": [
       "''"
      ]
     },
     "execution_count": 172,
     "metadata": {},
     "output_type": "execute_result"
    }
   ],
   "source": [
    "name[3:9]"
   ]
  },
  {
   "cell_type": "code",
   "execution_count": 174,
   "id": "3b53fd4e-46b7-453a-94e4-23b77e92a3f6",
   "metadata": {},
   "outputs": [
    {
     "data": {
      "text/plain": [
       "'mit'"
      ]
     },
     "execution_count": 174,
     "metadata": {},
     "output_type": "execute_result"
    }
   ],
   "source": [
    "name"
   ]
  },
  {
   "cell_type": "code",
   "execution_count": 176,
   "id": "fa231b0e-aa34-4e2f-bec3-aadf7b7bdf0b",
   "metadata": {},
   "outputs": [
    {
     "data": {
      "text/plain": [
       "'fine'"
      ]
     },
     "execution_count": 176,
     "metadata": {},
     "output_type": "execute_result"
    }
   ],
   "source": [
    "name1 = 'fine' # change the string fine to dine \n",
    "name1"
   ]
  },
  {
   "cell_type": "code",
   "execution_count": 178,
   "id": "813e4be6-bec6-4355-9a02-516782985006",
   "metadata": {},
   "outputs": [
    {
     "data": {
      "text/plain": [
       "'f'"
      ]
     },
     "execution_count": 178,
     "metadata": {},
     "output_type": "execute_result"
    }
   ],
   "source": [
    "name1[0:1]"
   ]
  },
  {
   "cell_type": "code",
   "execution_count": 180,
   "id": "fc836bea-37c2-4c9e-b5ad-b307a3f29c61",
   "metadata": {},
   "outputs": [
    {
     "ename": "TypeError",
     "evalue": "'str' object does not support item assignment",
     "output_type": "error",
     "traceback": [
      "\u001b[1;31m---------------------------------------------------------------------------\u001b[0m",
      "\u001b[1;31mTypeError\u001b[0m                                 Traceback (most recent call last)",
      "Cell \u001b[1;32mIn[180], line 1\u001b[0m\n\u001b[1;32m----> 1\u001b[0m name1[\u001b[38;5;241m0\u001b[39m:\u001b[38;5;241m1\u001b[39m] \u001b[38;5;241m=\u001b[39m \u001b[38;5;124m'\u001b[39m\u001b[38;5;124md\u001b[39m\u001b[38;5;124m'\u001b[39m\n",
      "\u001b[1;31mTypeError\u001b[0m: 'str' object does not support item assignment"
     ]
    }
   ],
   "source": [
    "name1[0:1] = 'd' # i want to change 1st character of naresh (n) - t"
   ]
  },
  {
   "cell_type": "code",
   "execution_count": 182,
   "id": "635b65fa-3554-448e-9e64-5fdc56ffaf8e",
   "metadata": {},
   "outputs": [
    {
     "ename": "TypeError",
     "evalue": "'str' object does not support item assignment",
     "output_type": "error",
     "traceback": [
      "\u001b[1;31m---------------------------------------------------------------------------\u001b[0m",
      "\u001b[1;31mTypeError\u001b[0m                                 Traceback (most recent call last)",
      "Cell \u001b[1;32mIn[182], line 1\u001b[0m\n\u001b[1;32m----> 1\u001b[0m name1[\u001b[38;5;241m0\u001b[39m] \u001b[38;5;241m=\u001b[39m \u001b[38;5;124m'\u001b[39m\u001b[38;5;124md\u001b[39m\u001b[38;5;124m'\u001b[39m\n",
      "\u001b[1;31mTypeError\u001b[0m: 'str' object does not support item assignment"
     ]
    }
   ],
   "source": [
    "name1[0] = 'd' #strings in python are immutable"
   ]
  },
  {
   "cell_type": "code",
   "execution_count": 184,
   "id": "a580a8df-6986-4a48-aad9-8d33bfab2381",
   "metadata": {},
   "outputs": [
    {
     "data": {
      "text/plain": [
       "'fine'"
      ]
     },
     "execution_count": 184,
     "metadata": {},
     "output_type": "execute_result"
    }
   ],
   "source": [
    "name1"
   ]
  },
  {
   "cell_type": "code",
   "execution_count": 186,
   "id": "be4e02aa-e929-459b-bf50-37576f71251d",
   "metadata": {},
   "outputs": [
    {
     "data": {
      "text/plain": [
       "'f'"
      ]
     },
     "execution_count": 186,
     "metadata": {},
     "output_type": "execute_result"
    }
   ],
   "source": [
    "name1[:1]"
   ]
  },
  {
   "cell_type": "code",
   "execution_count": 188,
   "id": "2687248c-8f33-4975-8945-89f0f40ccb38",
   "metadata": {},
   "outputs": [
    {
     "ename": "NameError",
     "evalue": "name 'num1' is not defined",
     "output_type": "error",
     "traceback": [
      "\u001b[1;31m---------------------------------------------------------------------------\u001b[0m",
      "\u001b[1;31mNameError\u001b[0m                                 Traceback (most recent call last)",
      "Cell \u001b[1;32mIn[188], line 1\u001b[0m\n\u001b[1;32m----> 1\u001b[0m num1\u001b[38;5;241m.\u001b[39minsert(\u001b[38;5;241m2\u001b[39m,\u001b[38;5;124m'\u001b[39m\u001b[38;5;124mnit\u001b[39m\u001b[38;5;124m'\u001b[39m)\n",
      "\u001b[1;31mNameError\u001b[0m: name 'num1' is not defined"
     ]
    }
   ],
   "source": [
    "num1.insert(2,'nit') #insert the value as per index values i.e 2nd index we are assigning nit"
   ]
  },
  {
   "cell_type": "markdown",
   "id": "bc9156ea-6ffb-41a8-9cc4-3ac4a831814d",
   "metadata": {},
   "source": [
    "## introduce to ID()"
   ]
  },
  {
   "cell_type": "code",
   "execution_count": 193,
   "id": "98a7cdda-f438-45ee-98a0-16281fe195cd",
   "metadata": {},
   "outputs": [
    {
     "data": {
      "text/plain": [
       "140731147561528"
      ]
     },
     "execution_count": 193,
     "metadata": {},
     "output_type": "execute_result"
    }
   ],
   "source": [
    "# variable address\n",
    "num = 5\n",
    "id(num)"
   ]
  },
  {
   "cell_type": "code",
   "execution_count": 195,
   "id": "13dd6460-395f-42f0-97c3-5393b6ab7226",
   "metadata": {},
   "outputs": [
    {
     "data": {
      "text/plain": [
       "2923033991696"
      ]
     },
     "execution_count": 195,
     "metadata": {},
     "output_type": "execute_result"
    }
   ],
   "source": [
    "name = 'nit'\n",
    "id(name) #Address will be different for both"
   ]
  },
  {
   "cell_type": "code",
   "execution_count": 197,
   "id": "7238171c-bb16-4296-95ed-fac1569bab76",
   "metadata": {},
   "outputs": [
    {
     "data": {
      "text/plain": [
       "140731147561688"
      ]
     },
     "execution_count": 197,
     "metadata": {},
     "output_type": "execute_result"
    }
   ],
   "source": [
    "a = 10\n",
    "id(a)"
   ]
  },
  {
   "cell_type": "code",
   "execution_count": 199,
   "id": "02fc14e5-1224-453a-8b76-09d4cb03e47b",
   "metadata": {},
   "outputs": [],
   "source": [
    "b = a #thats why python is more memory efficient "
   ]
  },
  {
   "cell_type": "code",
   "execution_count": 201,
   "id": "7bf45ba8-cfec-437b-b6bd-069018c2ff76",
   "metadata": {},
   "outputs": [
    {
     "data": {
      "text/plain": [
       "140731147561688"
      ]
     },
     "execution_count": 201,
     "metadata": {},
     "output_type": "execute_result"
    }
   ],
   "source": [
    "id(b)"
   ]
  },
  {
   "cell_type": "code",
   "execution_count": 203,
   "id": "3a2ff6d4-a94a-4c99-b64a-cfdbb890b384",
   "metadata": {},
   "outputs": [
    {
     "data": {
      "text/plain": [
       "140731147561688"
      ]
     },
     "execution_count": 203,
     "metadata": {},
     "output_type": "execute_result"
    }
   ],
   "source": [
    "id(10)"
   ]
  },
  {
   "cell_type": "code",
   "execution_count": 205,
   "id": "646b3e36-0bb5-4ea8-9be8-3873ba260b1f",
   "metadata": {},
   "outputs": [
    {
     "data": {
      "text/plain": [
       "140731147561688"
      ]
     },
     "execution_count": 205,
     "metadata": {},
     "output_type": "execute_result"
    }
   ],
   "source": [
    "k = 10 \n",
    "id(k)"
   ]
  },
  {
   "cell_type": "code",
   "execution_count": 207,
   "id": "535cbc0a-ee22-43cd-be00-3d49df394a58",
   "metadata": {},
   "outputs": [
    {
     "data": {
      "text/plain": [
       "140731147562008"
      ]
     },
     "execution_count": 207,
     "metadata": {},
     "output_type": "execute_result"
    }
   ],
   "source": [
    "a = 20  # as we change the value of a then address will change\n",
    "id(a)"
   ]
  },
  {
   "cell_type": "code",
   "execution_count": 209,
   "id": "9826ddd3-e243-4901-af98-16fe3e84fd40",
   "metadata": {},
   "outputs": [
    {
     "data": {
      "text/plain": [
       "140731147561688"
      ]
     },
     "execution_count": 209,
     "metadata": {},
     "output_type": "execute_result"
    }
   ],
   "source": [
    "id(b)"
   ]
  },
  {
   "cell_type": "markdown",
   "id": "8a67d92d-1eeb-4590-a1d1-d23ddf994af3",
   "metadata": {},
   "source": [
    "what ever the variale we assigned the memory and we not assigned anywhere then we can use as garbage collection.|| \n",
    "VARIABLE - we can change the values || CONSTANT - we cannot change the value\n",
    "-can we make VARIABLE as a CONSTANT (note - in python you cannot make variable as constant)"
   ]
  },
  {
   "cell_type": "code",
   "execution_count": 212,
   "id": "f49a8f2c-2bba-4b13-8d08-6a059a5c5d98",
   "metadata": {},
   "outputs": [
    {
     "data": {
      "text/plain": [
       "3.14"
      ]
     },
     "execution_count": 212,
     "metadata": {},
     "output_type": "execute_result"
    }
   ],
   "source": [
    "PI = 3.14  #in math this is alway constant but python we can chang\n",
    "PI"
   ]
  },
  {
   "cell_type": "code",
   "execution_count": 214,
   "id": "468498f4-aa29-40a1-b6c8-1446e193c45e",
   "metadata": {},
   "outputs": [
    {
     "data": {
      "text/plain": [
       "3.15"
      ]
     },
     "execution_count": 214,
     "metadata": {},
     "output_type": "execute_result"
    }
   ],
   "source": [
    "PI = 3.15\n",
    "PI"
   ]
  },
  {
   "cell_type": "code",
   "execution_count": 216,
   "id": "0f17bd2c-f20e-4b2a-82c3-74ca15c7f913",
   "metadata": {},
   "outputs": [
    {
     "data": {
      "text/plain": [
       "float"
      ]
     },
     "execution_count": 216,
     "metadata": {},
     "output_type": "execute_result"
    }
   ],
   "source": [
    "type(PI)"
   ]
  },
  {
   "cell_type": "markdown",
   "id": "367b62a0-741b-451c-a72c-e804c781c9f9",
   "metadata": {},
   "source": [
    "1- NUMERIC :- \n",
    "INT || FLOAT || COMPLEX || BOOL\n",
    "![image.png](Numeric image.png)"
   ]
  },
  {
   "cell_type": "markdown",
   "id": "5725dfab-1a5a-4d5c-a847-991a1deb9be5",
   "metadata": {},
   "source": [
    "## operator \n",
    "1- ARITHMETIC OPERATOR ( + , -, *, /, %, %%, **, ^\n",
    "2- ASSIGNMEN OPERATOR (=)\n",
    "3- RELATIONAL OPERATOR\n",
    "4- LOGICAL OPERATOR\n",
    "5- UNARY OPERATOR\n",
    "![image.png](attachment:image.png)"
   ]
  },
  {
   "cell_type": "markdown",
   "id": "50088016-80bc-47ef-ba44-b7b85a1fe9f5",
   "metadata": {},
   "source": [
    "## Arithmetic operator"
   ]
  },
  {
   "cell_type": "code",
   "execution_count": 233,
   "id": "269bc167-f984-4ab2-a0af-82bddcbf98b7",
   "metadata": {},
   "outputs": [],
   "source": [
    "x1, y1 = 10, 5"
   ]
  },
  {
   "cell_type": "code",
   "execution_count": 235,
   "id": "5ed70e49-e778-41c8-9217-41fed8f614f8",
   "metadata": {},
   "outputs": [],
   "source": [
    "#x1 ^ y1"
   ]
  },
  {
   "cell_type": "code",
   "execution_count": 237,
   "id": "990b8e52-f090-449d-bd74-e8bb62b87e7d",
   "metadata": {},
   "outputs": [
    {
     "data": {
      "text/plain": [
       "15"
      ]
     },
     "execution_count": 237,
     "metadata": {},
     "output_type": "execute_result"
    }
   ],
   "source": [
    "x1  + y1 "
   ]
  },
  {
   "cell_type": "code",
   "execution_count": 239,
   "id": "12f5014e-7b84-469c-9c99-477e1168be4a",
   "metadata": {},
   "outputs": [
    {
     "data": {
      "text/plain": [
       "5"
      ]
     },
     "execution_count": 239,
     "metadata": {},
     "output_type": "execute_result"
    }
   ],
   "source": [
    "x1 - y1"
   ]
  },
  {
   "cell_type": "code",
   "execution_count": 241,
   "id": "064eb5c3-8bf0-4c9f-817b-216306d6be32",
   "metadata": {},
   "outputs": [
    {
     "data": {
      "text/plain": [
       "50"
      ]
     },
     "execution_count": 241,
     "metadata": {},
     "output_type": "execute_result"
    }
   ],
   "source": [
    "x1 * y1"
   ]
  },
  {
   "cell_type": "code",
   "execution_count": 243,
   "id": "6a6d1ad2-1898-4a50-99b1-27e88059c854",
   "metadata": {},
   "outputs": [
    {
     "data": {
      "text/plain": [
       "2.0"
      ]
     },
     "execution_count": 243,
     "metadata": {},
     "output_type": "execute_result"
    }
   ],
   "source": [
    "x1 / y1"
   ]
  },
  {
   "cell_type": "code",
   "execution_count": 245,
   "id": "c93446f6-4a0d-47fc-8afa-9d326cb2cb02",
   "metadata": {},
   "outputs": [
    {
     "data": {
      "text/plain": [
       "2"
      ]
     },
     "execution_count": 245,
     "metadata": {},
     "output_type": "execute_result"
    }
   ],
   "source": [
    "x1 // y1"
   ]
  },
  {
   "cell_type": "code",
   "execution_count": 247,
   "id": "54d438f5-b338-4807-b2e6-47d2838a5ded",
   "metadata": {},
   "outputs": [
    {
     "data": {
      "text/plain": [
       "0"
      ]
     },
     "execution_count": 247,
     "metadata": {},
     "output_type": "execute_result"
    }
   ],
   "source": [
    "x1 % y1 "
   ]
  },
  {
   "cell_type": "code",
   "execution_count": 249,
   "id": "745f089c-9104-4b9e-98e4-cafc036090f7",
   "metadata": {},
   "outputs": [
    {
     "data": {
      "text/plain": [
       "100000"
      ]
     },
     "execution_count": 249,
     "metadata": {},
     "output_type": "execute_result"
    }
   ],
   "source": [
    "x1 ** y1"
   ]
  },
  {
   "cell_type": "code",
   "execution_count": 251,
   "id": "53672971-7c0c-44f8-b482-0d155e41c1d0",
   "metadata": {},
   "outputs": [
    {
     "data": {
      "text/plain": [
       "9"
      ]
     },
     "execution_count": 251,
     "metadata": {},
     "output_type": "execute_result"
    }
   ],
   "source": [
    "x2 = 3\n",
    "y2 = 2\n",
    "x2 ** y2"
   ]
  },
  {
   "cell_type": "markdown",
   "id": "fcc8b01a-5917-4dec-ac18-6428705498df",
   "metadata": {},
   "source": [
    "## Assignment operator "
   ]
  },
  {
   "cell_type": "code",
   "execution_count": 254,
   "id": "0fa01e8e-6a63-48a1-a228-cd4a760858d2",
   "metadata": {},
   "outputs": [],
   "source": [
    "x = 2"
   ]
  },
  {
   "cell_type": "code",
   "execution_count": 256,
   "id": "e1f4a8e2-44c6-44e2-818c-10268f1198fa",
   "metadata": {},
   "outputs": [],
   "source": [
    "x = x + 2 # if you want to increment by 2 "
   ]
  },
  {
   "cell_type": "code",
   "execution_count": 258,
   "id": "bbaf3c13-349d-43ae-a28f-e0415ac89fe0",
   "metadata": {},
   "outputs": [
    {
     "data": {
      "text/plain": [
       "4"
      ]
     },
     "execution_count": 258,
     "metadata": {},
     "output_type": "execute_result"
    }
   ],
   "source": [
    "x"
   ]
  },
  {
   "cell_type": "code",
   "execution_count": 260,
   "id": "cf88d8f5-724a-4435-be17-e519c1c12c2e",
   "metadata": {},
   "outputs": [
    {
     "data": {
      "text/plain": [
       "6"
      ]
     },
     "execution_count": 260,
     "metadata": {},
     "output_type": "execute_result"
    }
   ],
   "source": [
    "x += 2\n",
    "x"
   ]
  },
  {
   "cell_type": "code",
   "execution_count": 262,
   "id": "9d130947-7548-4983-821d-2b10556d30c3",
   "metadata": {},
   "outputs": [
    {
     "data": {
      "text/plain": [
       "8"
      ]
     },
     "execution_count": 262,
     "metadata": {},
     "output_type": "execute_result"
    }
   ],
   "source": [
    "x += 2\n",
    "x"
   ]
  },
  {
   "cell_type": "code",
   "execution_count": 264,
   "id": "aa6c2ccb-0a85-4ccd-ba77-5a5fcdd4d27d",
   "metadata": {},
   "outputs": [],
   "source": [
    "x *= 2"
   ]
  },
  {
   "cell_type": "code",
   "execution_count": 266,
   "id": "32284d38-5f46-47c4-ae9c-2d696926b944",
   "metadata": {},
   "outputs": [
    {
     "data": {
      "text/plain": [
       "16"
      ]
     },
     "execution_count": 266,
     "metadata": {},
     "output_type": "execute_result"
    }
   ],
   "source": [
    "x"
   ]
  },
  {
   "cell_type": "code",
   "execution_count": 268,
   "id": "8c30b8b3-03d1-42aa-9939-c508616c2746",
   "metadata": {},
   "outputs": [],
   "source": [
    "x -= 2"
   ]
  },
  {
   "cell_type": "code",
   "execution_count": 270,
   "id": "797d01bf-2195-4bab-8c17-27dd05b5eac2",
   "metadata": {},
   "outputs": [
    {
     "data": {
      "text/plain": [
       "14"
      ]
     },
     "execution_count": 270,
     "metadata": {},
     "output_type": "execute_result"
    }
   ],
   "source": [
    "x"
   ]
  },
  {
   "cell_type": "code",
   "execution_count": 272,
   "id": "cbeb8fca-014d-4f75-a9c4-190608c077c7",
   "metadata": {},
   "outputs": [
    {
     "data": {
      "text/plain": [
       "7.0"
      ]
     },
     "execution_count": 272,
     "metadata": {},
     "output_type": "execute_result"
    }
   ],
   "source": [
    "x /= 2\n",
    "x"
   ]
  },
  {
   "cell_type": "code",
   "execution_count": 274,
   "id": "f59acdef-9109-4003-ba9a-7554f0b38479",
   "metadata": {},
   "outputs": [
    {
     "data": {
      "text/plain": [
       "3.0"
      ]
     },
     "execution_count": 274,
     "metadata": {},
     "output_type": "execute_result"
    }
   ],
   "source": [
    "x //= 2\n",
    "x"
   ]
  },
  {
   "cell_type": "code",
   "execution_count": 276,
   "id": "619d44cb-4e7f-4390-a08a-2c619ab0623c",
   "metadata": {},
   "outputs": [],
   "source": [
    "a, b = 5,6 # you can assigned variable in one line as well"
   ]
  },
  {
   "cell_type": "code",
   "execution_count": 278,
   "id": "41f4a95a-0b72-4c29-9c38-5c7f24986dc8",
   "metadata": {},
   "outputs": [
    {
     "data": {
      "text/plain": [
       "5"
      ]
     },
     "execution_count": 278,
     "metadata": {},
     "output_type": "execute_result"
    }
   ],
   "source": [
    "a"
   ]
  },
  {
   "cell_type": "code",
   "execution_count": 280,
   "id": "f2a8618b-50ca-4bbf-836c-17e6d7177603",
   "metadata": {},
   "outputs": [
    {
     "data": {
      "text/plain": [
       "6"
      ]
     },
     "execution_count": 280,
     "metadata": {},
     "output_type": "execute_result"
    }
   ],
   "source": [
    "b"
   ]
  },
  {
   "cell_type": "markdown",
   "id": "c2b90741-7a39-46b8-a563-2d7824ee2f5d",
   "metadata": {},
   "source": [
    "## unary operator \n",
    "- unary means 1 || binary means 2\n",
    "- Here we are applying unary minus operator(-) on the operand n; the value of m becomes -7, which indicates it as a negative value."
   ]
  },
  {
   "cell_type": "code",
   "execution_count": 283,
   "id": "0510386d-a78f-46e4-972b-b545b3ff016f",
   "metadata": {},
   "outputs": [
    {
     "data": {
      "text/plain": [
       "7"
      ]
     },
     "execution_count": 283,
     "metadata": {},
     "output_type": "execute_result"
    }
   ],
   "source": [
    "n = 7 #negattion\n",
    "n"
   ]
  },
  {
   "cell_type": "code",
   "execution_count": 285,
   "id": "3b91482e-dd3d-4919-9067-7922609254fb",
   "metadata": {},
   "outputs": [
    {
     "data": {
      "text/plain": [
       "-7"
      ]
     },
     "execution_count": 285,
     "metadata": {},
     "output_type": "execute_result"
    }
   ],
   "source": [
    "m = -(n)\n",
    "m"
   ]
  },
  {
   "cell_type": "code",
   "execution_count": 287,
   "id": "6a016961-e6f8-46e0-ba66-246e95aad2a9",
   "metadata": {},
   "outputs": [
    {
     "data": {
      "text/plain": [
       "7"
      ]
     },
     "execution_count": 287,
     "metadata": {},
     "output_type": "execute_result"
    }
   ],
   "source": [
    "n"
   ]
  },
  {
   "cell_type": "code",
   "execution_count": 289,
   "id": "108e82c2-ad4e-4534-93cb-a53a7e306043",
   "metadata": {},
   "outputs": [
    {
     "data": {
      "text/plain": [
       "-7"
      ]
     },
     "execution_count": 289,
     "metadata": {},
     "output_type": "execute_result"
    }
   ],
   "source": [
    "-n"
   ]
  },
  {
   "cell_type": "markdown",
   "id": "93b5654e-e92a-4396-a0c9-eba9a8290c5a",
   "metadata": {},
   "source": [
    "# Relational operator \n",
    "we are using this operator for comparing"
   ]
  },
  {
   "cell_type": "code",
   "execution_count": 292,
   "id": "444254f9-f7f3-4597-bce4-380962ac2137",
   "metadata": {},
   "outputs": [],
   "source": [
    "a = 5\n",
    "b = 6"
   ]
  },
  {
   "cell_type": "code",
   "execution_count": 294,
   "id": "528ff028-ee0e-476c-98c3-baa613c44b0c",
   "metadata": {},
   "outputs": [
    {
     "data": {
      "text/plain": [
       "True"
      ]
     },
     "execution_count": 294,
     "metadata": {},
     "output_type": "execute_result"
    }
   ],
   "source": [
    "a<b"
   ]
  },
  {
   "cell_type": "code",
   "execution_count": 296,
   "id": "c1cb5062-a7a0-44e3-95cb-ff56108b8fd0",
   "metadata": {},
   "outputs": [
    {
     "data": {
      "text/plain": [
       "False"
      ]
     },
     "execution_count": 296,
     "metadata": {},
     "output_type": "execute_result"
    }
   ],
   "source": [
    "a>b"
   ]
  },
  {
   "cell_type": "code",
   "execution_count": 298,
   "id": "e226efd4-0d8e-486d-bc89-6f1456ce51c2",
   "metadata": {},
   "outputs": [],
   "source": [
    "# a = b # we cannot use = operatro that means it is assigning "
   ]
  },
  {
   "cell_type": "code",
   "execution_count": 300,
   "id": "362be1e6-0a07-41b1-abe6-b4cfe401d308",
   "metadata": {},
   "outputs": [
    {
     "data": {
      "text/plain": [
       "False"
      ]
     },
     "execution_count": 300,
     "metadata": {},
     "output_type": "execute_result"
    }
   ],
   "source": [
    "a == b"
   ]
  },
  {
   "cell_type": "code",
   "execution_count": 302,
   "id": "a4982127-5a80-4b01-8cef-f154c153340f",
   "metadata": {},
   "outputs": [
    {
     "data": {
      "text/plain": [
       "True"
      ]
     },
     "execution_count": 302,
     "metadata": {},
     "output_type": "execute_result"
    }
   ],
   "source": [
    "a != b"
   ]
  },
  {
   "cell_type": "code",
   "execution_count": 304,
   "id": "520cf062-e82f-4f1d-9739-a4bf806d0310",
   "metadata": {},
   "outputs": [],
   "source": [
    "# hear if i change b = 6\n",
    "b = 5"
   ]
  },
  {
   "cell_type": "code",
   "execution_count": 306,
   "id": "b7b550b5-8d0a-4146-b0b8-055a9b3970bf",
   "metadata": {},
   "outputs": [
    {
     "data": {
      "text/plain": [
       "True"
      ]
     },
     "execution_count": 306,
     "metadata": {},
     "output_type": "execute_result"
    }
   ],
   "source": [
    "a == b"
   ]
  },
  {
   "cell_type": "code",
   "execution_count": 308,
   "id": "17dcc68e-1ba7-4f7d-96f5-202105a0ac65",
   "metadata": {},
   "outputs": [
    {
     "data": {
      "text/plain": [
       "5"
      ]
     },
     "execution_count": 308,
     "metadata": {},
     "output_type": "execute_result"
    }
   ],
   "source": [
    "a"
   ]
  },
  {
   "cell_type": "code",
   "execution_count": 310,
   "id": "4bea9123-c509-41d2-964d-0d8b01281fa1",
   "metadata": {},
   "outputs": [
    {
     "data": {
      "text/plain": [
       "5"
      ]
     },
     "execution_count": 310,
     "metadata": {},
     "output_type": "execute_result"
    }
   ],
   "source": [
    "b"
   ]
  },
  {
   "cell_type": "code",
   "execution_count": 312,
   "id": "2f030498-d8a0-41e5-8667-eb4ed5d660c9",
   "metadata": {},
   "outputs": [
    {
     "data": {
      "text/plain": [
       "True"
      ]
     },
     "execution_count": 312,
     "metadata": {},
     "output_type": "execute_result"
    }
   ],
   "source": [
    "a >= b"
   ]
  },
  {
   "cell_type": "code",
   "execution_count": 314,
   "id": "5f6bf2d8-0544-45c9-a969-e949425beaeb",
   "metadata": {},
   "outputs": [
    {
     "data": {
      "text/plain": [
       "True"
      ]
     },
     "execution_count": 314,
     "metadata": {},
     "output_type": "execute_result"
    }
   ],
   "source": [
    "a <= b"
   ]
  },
  {
   "cell_type": "code",
   "execution_count": 316,
   "id": "d92ac800-d185-45ac-b124-43c54cd941b8",
   "metadata": {},
   "outputs": [
    {
     "data": {
      "text/plain": [
       "False"
      ]
     },
     "execution_count": 316,
     "metadata": {},
     "output_type": "execute_result"
    }
   ],
   "source": [
    "a < b"
   ]
  },
  {
   "cell_type": "code",
   "execution_count": 318,
   "id": "ed1a4f52-1904-41ae-9d64-b46ae59d2776",
   "metadata": {},
   "outputs": [
    {
     "data": {
      "text/plain": [
       "False"
      ]
     },
     "execution_count": 318,
     "metadata": {},
     "output_type": "execute_result"
    }
   ],
   "source": [
    "a>b"
   ]
  },
  {
   "cell_type": "code",
   "execution_count": 320,
   "id": "15615404-f96d-4647-877e-2bfbcc53603c",
   "metadata": {},
   "outputs": [],
   "source": [
    "b = 7"
   ]
  },
  {
   "cell_type": "code",
   "execution_count": 322,
   "id": "6e6c7964-0592-4bb9-b5e1-69f81bc442b1",
   "metadata": {},
   "outputs": [
    {
     "data": {
      "text/plain": [
       "True"
      ]
     },
     "execution_count": 322,
     "metadata": {},
     "output_type": "execute_result"
    }
   ],
   "source": [
    "a != b"
   ]
  },
  {
   "cell_type": "markdown",
   "id": "c8b7035b-d494-40d5-b7ae-ad96394154d9",
   "metadata": {},
   "source": [
    "## LOGICAL OPERATOR \n",
    "- logical operator you need to understand about true & false table \n",
    "![image.png](attachment:image.png)\n",
    "- 3 importand part of logical operator is --> AND, OR, NOT"
   ]
  },
  {
   "cell_type": "code",
   "execution_count": 325,
   "id": "663ba67e-d2b9-4b5c-b9f2-336c75715029",
   "metadata": {},
   "outputs": [],
   "source": [
    "a = 5\n",
    "b = 4"
   ]
  },
  {
   "cell_type": "code",
   "execution_count": 327,
   "id": "7c5b3036-e0e4-40e8-b66e-f1f9ae38d429",
   "metadata": {},
   "outputs": [
    {
     "data": {
      "text/plain": [
       "True"
      ]
     },
     "execution_count": 327,
     "metadata": {},
     "output_type": "execute_result"
    }
   ],
   "source": [
    "a < 8 and b < 5 #refer to the truth table"
   ]
  },
  {
   "cell_type": "code",
   "execution_count": 329,
   "id": "98f646a4-0fd9-4ffa-8c93-6a639ca19377",
   "metadata": {},
   "outputs": [
    {
     "data": {
      "text/plain": [
       "False"
      ]
     },
     "execution_count": 329,
     "metadata": {},
     "output_type": "execute_result"
    }
   ],
   "source": [
    "a < 8 and b < 2"
   ]
  },
  {
   "cell_type": "code",
   "execution_count": 331,
   "id": "786c890c-e671-4a82-a426-e0c5fbd3f42c",
   "metadata": {},
   "outputs": [
    {
     "data": {
      "text/plain": [
       "True"
      ]
     },
     "execution_count": 331,
     "metadata": {},
     "output_type": "execute_result"
    }
   ],
   "source": [
    "a < 8 or b < 2"
   ]
  },
  {
   "cell_type": "code",
   "execution_count": 333,
   "id": "f2a87839-51a7-4e0e-97ef-938224e47d1a",
   "metadata": {},
   "outputs": [
    {
     "data": {
      "text/plain": [
       "False"
      ]
     },
     "execution_count": 333,
     "metadata": {},
     "output_type": "execute_result"
    }
   ],
   "source": [
    "a>8 or b<2"
   ]
  },
  {
   "cell_type": "code",
   "execution_count": 336,
   "id": "24e93d08-4066-43ee-aa6e-631c48367603",
   "metadata": {},
   "outputs": [
    {
     "data": {
      "text/plain": [
       "False"
      ]
     },
     "execution_count": 336,
     "metadata": {},
     "output_type": "execute_result"
    }
   ],
   "source": [
    "x = False\n",
    "x"
   ]
  },
  {
   "cell_type": "code",
   "execution_count": 338,
   "id": "f09623a6-320c-4b53-bc3b-e67553466a17",
   "metadata": {},
   "outputs": [
    {
     "data": {
      "text/plain": [
       "True"
      ]
     },
     "execution_count": 338,
     "metadata": {},
     "output_type": "execute_result"
    }
   ],
   "source": [
    "not x  # you can reverse the operation"
   ]
  }
 ],
 "metadata": {
  "kernelspec": {
   "display_name": "Python [conda env:base] *",
   "language": "python",
   "name": "conda-base-py"
  },
  "language_info": {
   "codemirror_mode": {
    "name": "ipython",
    "version": 3
   },
   "file_extension": ".py",
   "mimetype": "text/x-python",
   "name": "python",
   "nbconvert_exporter": "python",
   "pygments_lexer": "ipython3",
   "version": "3.12.7"
  }
 },
 "nbformat": 4,
 "nbformat_minor": 5
}
